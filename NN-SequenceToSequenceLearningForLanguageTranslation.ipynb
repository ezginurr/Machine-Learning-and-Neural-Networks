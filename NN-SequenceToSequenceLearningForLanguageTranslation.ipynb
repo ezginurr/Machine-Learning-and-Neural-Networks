{
 "cells": [
  {
   "cell_type": "markdown",
   "id": "94366e05",
   "metadata": {},
   "source": [
    "### Sequence to Sequence Learning for Language Translation\n",
    "Sequence to sequence learning involves building a model where data in a domain can be converted to another domain, following the input data sequence. Sequence to sequence learning is especially useful in Natural Language Processing for language translation. In this homework, a sequence to sequence learning model which does language translation(English-French), will be built."
   ]
  },
  {
   "attachments": {
    "image.png": {
     "image/png": "[encoded data removed]"
    }
   },
   "cell_type": "markdown",
   "id": "71964b64",
   "metadata": {},
   "source": [
    "\n",
    "A seq2seq model has two important components which are the encoder and the decoder.\n",
    "\n",
    "    ~\n",
    "    RNN layer which serves as the encoder: The encoder receives a sequence as input and returns it’s own internal state. This process continues until the end of the sequence.\n",
    "    ~\n",
    "    RNN layer which serves as the decoder: The decoder is trained to predict the next character, given the previous character.(return the target t+1 given the targets t, as defined by the input sequence)\n",
    "    ~\n",
    "With the context received from the encoder as input, each state of the decoder returns an output that serves as input for the next state. The output of the decoder is the characters at each time step.\n",
    "![image.png](attachment:image.png)"
   ]
  },
  {
   "cell_type": "markdown",
   "id": "f0ef1541",
   "metadata": {},
   "source": [
    "Loading data and defining some variables"
   ]
  },
  {
   "cell_type": "code",
   "execution_count": 1,
   "id": "b460ecc7",
   "metadata": {},
   "outputs": [],
   "source": [
    "from tensorflow.keras.models import Model\n",
    "from tensorflow.keras.layers import Input, LSTM, Dense\n",
    "import numpy as np\n",
    "\n",
    "batch_size = 64\n",
    "epochs = 50 #100\n",
    "latent_dim = 256 #latent dimensianality of the encoding space\n",
    "num_samples = 10000\n",
    "\n",
    "#data\n",
    "data_path = 'fra.txt'"
   ]
  },
  {
   "cell_type": "markdown",
   "id": "86265988",
   "metadata": {},
   "source": [
    "Generating the textual vectors"
   ]
  },
  {
   "cell_type": "code",
   "execution_count": 2,
   "id": "f5898d23",
   "metadata": {},
   "outputs": [],
   "source": [
    "# Vectorize the data\n",
    "input_texts = []\n",
    "target_texts = []\n",
    "input_characters = set()\n",
    "target_characters = set()\n",
    "\n",
    "with open(data_path, 'r', encoding='utf-8') as f:\n",
    "    lines = f.read().split('\\n')\n",
    "for line in lines[: min(num_samples, len(lines) - 1)]:\n",
    "    input_text, target_text, _ = line.split('\\t')\n",
    "    # we use \"tab\" as the \"start sequence\" character\n",
    "    # for the targets, and \"\\n\" as \"end sequence\" character\n",
    "    target_text = '\\t' + target_text + '\\n'\n",
    "    input_texts.append(input_text)\n",
    "    target_texts.append(target_text)\n",
    "    for char in input_text:\n",
    "        if char not in input_characters:\n",
    "            input_characters.add(char)\n",
    "    for char in target_text:\n",
    "        if char not in target_characters:\n",
    "            target_characters.add(char)"
   ]
  },
  {
   "cell_type": "markdown",
   "id": "969d4910",
   "metadata": {},
   "source": [
    "Defining the sorted list of English words, the sorted list of Spanish words, the number of English words, the number of Spanish words, the number of characters in the longest English sentence and the number of characters in the longest French sentence"
   ]
  },
  {
   "cell_type": "code",
   "execution_count": 3,
   "id": "0a79d24f",
   "metadata": {},
   "outputs": [],
   "source": [
    "input_characters = sorted(list(input_characters))\n",
    "target_characters = sorted(list(target_characters))\n",
    "num_encoder_tokens = len(input_characters)\n",
    "num_decoder_tokens = len(target_characters)\n",
    "max_encoder_seq_length = max([len(txt) for txt in input_texts])\n",
    "max_decoder_seq_length = max([len(txt) for txt in target_texts])"
   ]
  },
  {
   "cell_type": "code",
   "execution_count": 4,
   "id": "e45c6f10",
   "metadata": {},
   "outputs": [
    {
     "name": "stdout",
     "output_type": "stream",
     "text": [
      "Number of samples: 10000\n",
      "Number of unique input tokens: 71\n",
      "Number of unique output tokens: 92\n",
      "Max sequence length for inputs: 15\n",
      "Max sequence length for outputs: 59\n"
     ]
    }
   ],
   "source": [
    "print('Number of samples:', len(input_texts))\n",
    "print('Number of unique input tokens:', num_encoder_tokens)\n",
    "print('Number of unique output tokens:', num_decoder_tokens)\n",
    "print('Max sequence length for inputs:', max_encoder_seq_length)\n",
    "print('Max sequence length for outputs:', max_decoder_seq_length)"
   ]
  },
  {
   "cell_type": "markdown",
   "id": "84a90c6e",
   "metadata": {},
   "source": [
    "Defining two dictionary data which hold the index and characters for English and French words"
   ]
  },
  {
   "cell_type": "code",
   "execution_count": 5,
   "id": "bfe5cdde",
   "metadata": {},
   "outputs": [],
   "source": [
    "input_token_index = dict(\n",
    "    [(char, i) for i, char in enumerate(input_characters)])\n",
    "target_token_index = dict(\n",
    "    [(char, i) for i, char in enumerate(target_characters)])"
   ]
  },
  {
   "cell_type": "markdown",
   "id": "bd003029",
   "metadata": {},
   "source": [
    "The encoder-decoder LSTM model will require 3 important data in numerical array format:\n",
    "\n",
    "    ~ encoder_input_data: This is a 3-dimensional array, containing the number of pairs in English (input_texts), the maximum length of the English sentence (max_encoder_seq_length), and the number of the English characters (num_encoder_tokens) in the data. \n",
    "    ~ decoder_input_data: his is a 3-dimensional array containing the number of pairs in Spanish (input_texts), the maximum length of the Spanish sentences (max_decoder_seq_length), and the number of Spanish characters (num_decoder_tokens).\n",
    "    ~ decoder_target_data: This data is the same as the input data of the decoder, only that that returns the next character at an offset time t + 1"
   ]
  },
  {
   "cell_type": "code",
   "execution_count": 6,
   "id": "d0635272",
   "metadata": {},
   "outputs": [],
   "source": [
    "encoder_input_data = np.zeros(\n",
    "    (len(input_texts), max_encoder_seq_length, num_encoder_tokens),\n",
    "    dtype='float32')\n",
    "decoder_input_data = np.zeros(\n",
    "    (len(input_texts), max_decoder_seq_length, num_decoder_tokens),\n",
    "    dtype='float32')\n",
    "decoder_target_data = np.zeros(\n",
    "    (len(input_texts), max_decoder_seq_length, num_decoder_tokens),\n",
    "    dtype='float32')"
   ]
  },
  {
   "cell_type": "markdown",
   "id": "7eae461d",
   "metadata": {},
   "source": [
    "Changing the textual input texts as numerical vectors"
   ]
  },
  {
   "cell_type": "code",
   "execution_count": 7,
   "id": "e66a2d74",
   "metadata": {},
   "outputs": [],
   "source": [
    "#parse the input and output texts\n",
    "for i, (input_text, target_text) in enumerate(zip(input_texts, target_texts)):\n",
    "    for t, char in enumerate(input_text):\n",
    "        encoder_input_data[i, t, input_token_index[char]] = 1.\n",
    "    encoder_input_data[i, t + 1:, input_token_index[' ']] = 1.\n",
    "    for t, char in enumerate(target_text):\n",
    "        # decoder_target_data is ahead of decoder_input_data by one timestep \n",
    "        decoder_input_data[i, t, target_token_index[char]] = 1.\n",
    "        if t > 0:\n",
    "            # decoder_target_data will be ahead by one timestep\n",
    "            # and will not include the start character.\n",
    "            decoder_target_data[i, t - 1, target_token_index[char]] = 1.\n",
    "    decoder_input_data[i, t + 1:, target_token_index[' ']] = 1.\n",
    "    decoder_target_data[i, t:, target_token_index[' ']] = 1."
   ]
  },
  {
   "cell_type": "markdown",
   "id": "0cf623d1",
   "metadata": {},
   "source": [
    "Defining the encoder input which is the English character sequence as one-hot encodings"
   ]
  },
  {
   "cell_type": "code",
   "execution_count": 8,
   "id": "fe1501aa",
   "metadata": {},
   "outputs": [],
   "source": [
    "encoder_inputs = Input(shape=(None, num_encoder_tokens))\n",
    "encoder = LSTM(latent_dim, return_state=True)\n",
    "encoder_outputs, state_h, state_c = encoder(encoder_inputs)\n",
    "encoder_states = [state_h, state_c]"
   ]
  },
  {
   "cell_type": "markdown",
   "id": "dfa44793",
   "metadata": {},
   "source": [
    "Defining the decoder input which is the French character sequence as one-hot encodings"
   ]
  },
  {
   "cell_type": "code",
   "execution_count": 9,
   "id": "ec1eb2f4",
   "metadata": {},
   "outputs": [],
   "source": [
    "decoder_inputs = Input(shape=(None, num_decoder_tokens))\n",
    "decoder_lstm = LSTM(latent_dim, return_sequences=True, return_state=True)\n",
    "decoder_outputs, _, _ = decoder_lstm(decoder_inputs, initial_state=encoder_states)\n",
    "decoder_dense = Dense(num_decoder_tokens, activation='softmax')\n",
    "decoder_outputs = decoder_dense(decoder_outputs)"
   ]
  },
  {
   "cell_type": "markdown",
   "id": "6f48e424",
   "metadata": {},
   "source": [
    "Defining the model for the encoder input data, decoder input data and decoder output data"
   ]
  },
  {
   "cell_type": "code",
   "execution_count": 10,
   "id": "d0b5a5ec",
   "metadata": {},
   "outputs": [
    {
     "name": "stdout",
     "output_type": "stream",
     "text": [
      "Model: \"model\"\n",
      "__________________________________________________________________________________________________\n",
      "Layer (type)                    Output Shape         Param #     Connected to                     \n",
      "==================================================================================================\n",
      "input_1 (InputLayer)            [(None, None, 71)]   0                                            \n",
      "__________________________________________________________________________________________________\n",
      "input_2 (InputLayer)            [(None, None, 92)]   0                                            \n",
      "__________________________________________________________________________________________________\n",
      "lstm (LSTM)                     [(None, 256), (None, 335872      input_1[0][0]                    \n",
      "__________________________________________________________________________________________________\n",
      "lstm_1 (LSTM)                   [(None, None, 256),  357376      input_2[0][0]                    \n",
      "                                                                 lstm[0][1]                       \n",
      "                                                                 lstm[0][2]                       \n",
      "__________________________________________________________________________________________________\n",
      "dense (Dense)                   (None, None, 92)     23644       lstm_1[0][0]                     \n",
      "==================================================================================================\n",
      "Total params: 716,892\n",
      "Trainable params: 716,892\n",
      "Non-trainable params: 0\n",
      "__________________________________________________________________________________________________\n",
      "Epoch 1/50\n",
      "125/125 [==============================] - 22s 154ms/step - loss: 1.1409 - accuracy: 0.7356 - val_loss: 1.0440 - val_accuracy: 0.7139\n",
      "Epoch 2/50\n",
      "125/125 [==============================] - 19s 149ms/step - loss: 0.8174 - accuracy: 0.7788 - val_loss: 0.8427 - val_accuracy: 0.7626\n",
      "Epoch 3/50\n",
      "125/125 [==============================] - 18s 146ms/step - loss: 0.6584 - accuracy: 0.8150 - val_loss: 0.6844 - val_accuracy: 0.8061\n",
      "Epoch 4/50\n",
      "125/125 [==============================] - 18s 146ms/step - loss: 0.5720 - accuracy: 0.8338 - val_loss: 0.6219 - val_accuracy: 0.8224\n",
      "Epoch 5/50\n",
      "125/125 [==============================] - 18s 146ms/step - loss: 0.5232 - accuracy: 0.8474 - val_loss: 0.5845 - val_accuracy: 0.8290\n",
      "Epoch 6/50\n",
      "125/125 [==============================] - 18s 147ms/step - loss: 0.4888 - accuracy: 0.8564 - val_loss: 0.5569 - val_accuracy: 0.8358\n",
      "Epoch 7/50\n",
      "125/125 [==============================] - 18s 148ms/step - loss: 0.4620 - accuracy: 0.8634 - val_loss: 0.5333 - val_accuracy: 0.8421\n",
      "Epoch 8/50\n",
      "125/125 [==============================] - 19s 154ms/step - loss: 0.4391 - accuracy: 0.8692 - val_loss: 0.5188 - val_accuracy: 0.8462\n",
      "Epoch 9/50\n",
      "125/125 [==============================] - 19s 152ms/step - loss: 0.4195 - accuracy: 0.8747 - val_loss: 0.5041 - val_accuracy: 0.8519\n",
      "Epoch 10/50\n",
      "125/125 [==============================] - 21s 171ms/step - loss: 0.4017 - accuracy: 0.8796 - val_loss: 0.4899 - val_accuracy: 0.8560\n",
      "Epoch 11/50\n",
      "125/125 [==============================] - 20s 162ms/step - loss: 0.3854 - accuracy: 0.8841 - val_loss: 0.4840 - val_accuracy: 0.8576\n",
      "Epoch 12/50\n",
      "125/125 [==============================] - 20s 161ms/step - loss: 0.3701 - accuracy: 0.8887 - val_loss: 0.4742 - val_accuracy: 0.8608\n",
      "Epoch 13/50\n",
      "125/125 [==============================] - 20s 159ms/step - loss: 0.3555 - accuracy: 0.8927 - val_loss: 0.4699 - val_accuracy: 0.8625\n",
      "Epoch 14/50\n",
      "125/125 [==============================] - 20s 163ms/step - loss: 0.3422 - accuracy: 0.8970 - val_loss: 0.4601 - val_accuracy: 0.8656\n",
      "Epoch 15/50\n",
      "125/125 [==============================] - 20s 156ms/step - loss: 0.3295 - accuracy: 0.9009 - val_loss: 0.4573 - val_accuracy: 0.8679\n",
      "Epoch 16/50\n",
      "125/125 [==============================] - 20s 162ms/step - loss: 0.3174 - accuracy: 0.9045 - val_loss: 0.4571 - val_accuracy: 0.8674\n",
      "Epoch 17/50\n",
      "125/125 [==============================] - 21s 165ms/step - loss: 0.3061 - accuracy: 0.9077 - val_loss: 0.4496 - val_accuracy: 0.8701\n",
      "Epoch 18/50\n",
      "125/125 [==============================] - 20s 160ms/step - loss: 0.2953 - accuracy: 0.9111 - val_loss: 0.4538 - val_accuracy: 0.8682\n",
      "Epoch 19/50\n",
      "125/125 [==============================] - 21s 167ms/step - loss: 0.2850 - accuracy: 0.9140 - val_loss: 0.4475 - val_accuracy: 0.8711\n",
      "Epoch 20/50\n",
      "125/125 [==============================] - 21s 168ms/step - loss: 0.2754 - accuracy: 0.9166 - val_loss: 0.4465 - val_accuracy: 0.8721\n",
      "Epoch 21/50\n",
      "125/125 [==============================] - 22s 175ms/step - loss: 0.2660 - accuracy: 0.9194 - val_loss: 0.4520 - val_accuracy: 0.8710\n",
      "Epoch 22/50\n",
      "125/125 [==============================] - 21s 165ms/step - loss: 0.2570 - accuracy: 0.9221 - val_loss: 0.4467 - val_accuracy: 0.8738\n",
      "Epoch 23/50\n",
      "125/125 [==============================] - 21s 166ms/step - loss: 0.2484 - accuracy: 0.9247 - val_loss: 0.4473 - val_accuracy: 0.8740\n",
      "Epoch 24/50\n",
      "125/125 [==============================] - 21s 171ms/step - loss: 0.2404 - accuracy: 0.9271 - val_loss: 0.4457 - val_accuracy: 0.8750\n",
      "Epoch 25/50\n",
      "125/125 [==============================] - 21s 168ms/step - loss: 0.2326 - accuracy: 0.9292 - val_loss: 0.4516 - val_accuracy: 0.8739\n",
      "Epoch 26/50\n",
      "125/125 [==============================] - 21s 167ms/step - loss: 0.2249 - accuracy: 0.9314 - val_loss: 0.4511 - val_accuracy: 0.8764\n",
      "Epoch 27/50\n",
      "125/125 [==============================] - 22s 177ms/step - loss: 0.2180 - accuracy: 0.9338 - val_loss: 0.4538 - val_accuracy: 0.8753\n",
      "Epoch 28/50\n",
      "125/125 [==============================] - 21s 168ms/step - loss: 0.2110 - accuracy: 0.9357 - val_loss: 0.4599 - val_accuracy: 0.8745\n",
      "Epoch 29/50\n",
      "125/125 [==============================] - 21s 170ms/step - loss: 0.2046 - accuracy: 0.9372 - val_loss: 0.4622 - val_accuracy: 0.8748\n",
      "Epoch 30/50\n",
      "125/125 [==============================] - 22s 176ms/step - loss: 0.1982 - accuracy: 0.9394 - val_loss: 0.4643 - val_accuracy: 0.8752\n",
      "Epoch 31/50\n",
      "125/125 [==============================] - 22s 173ms/step - loss: 0.1923 - accuracy: 0.9411 - val_loss: 0.4706 - val_accuracy: 0.8746\n",
      "Epoch 32/50\n",
      "125/125 [==============================] - 22s 176ms/step - loss: 0.1869 - accuracy: 0.9426 - val_loss: 0.4695 - val_accuracy: 0.8752\n",
      "Epoch 33/50\n",
      "125/125 [==============================] - 21s 169ms/step - loss: 0.1811 - accuracy: 0.9445 - val_loss: 0.4752 - val_accuracy: 0.8751\n",
      "Epoch 34/50\n",
      "125/125 [==============================] - 21s 168ms/step - loss: 0.1759 - accuracy: 0.9460 - val_loss: 0.4785 - val_accuracy: 0.8757\n",
      "Epoch 35/50\n",
      "125/125 [==============================] - 22s 172ms/step - loss: 0.1708 - accuracy: 0.9476 - val_loss: 0.4827 - val_accuracy: 0.8759\n",
      "Epoch 36/50\n",
      "125/125 [==============================] - 23s 183ms/step - loss: 0.1660 - accuracy: 0.9491 - val_loss: 0.4901 - val_accuracy: 0.8738\n",
      "Epoch 37/50\n",
      "125/125 [==============================] - 22s 174ms/step - loss: 0.1612 - accuracy: 0.9504 - val_loss: 0.4938 - val_accuracy: 0.8742\n",
      "Epoch 38/50\n",
      "125/125 [==============================] - 21s 169ms/step - loss: 0.1564 - accuracy: 0.9520 - val_loss: 0.4956 - val_accuracy: 0.8756\n",
      "Epoch 39/50\n",
      "125/125 [==============================] - 21s 170ms/step - loss: 0.1530 - accuracy: 0.9528 - val_loss: 0.4986 - val_accuracy: 0.8752\n",
      "Epoch 40/50\n",
      "125/125 [==============================] - 21s 168ms/step - loss: 0.1488 - accuracy: 0.9540 - val_loss: 0.5052 - val_accuracy: 0.8755\n",
      "Epoch 41/50\n",
      "125/125 [==============================] - 22s 175ms/step - loss: 0.1450 - accuracy: 0.9552 - val_loss: 0.5118 - val_accuracy: 0.8747\n",
      "Epoch 42/50\n",
      "125/125 [==============================] - 21s 170ms/step - loss: 0.1410 - accuracy: 0.9563 - val_loss: 0.5118 - val_accuracy: 0.8749\n",
      "Epoch 43/50\n",
      "125/125 [==============================] - 22s 178ms/step - loss: 0.1374 - accuracy: 0.9574 - val_loss: 0.5152 - val_accuracy: 0.8749\n",
      "Epoch 44/50\n",
      "125/125 [==============================] - 22s 176ms/step - loss: 0.1342 - accuracy: 0.9581 - val_loss: 0.5232 - val_accuracy: 0.8746\n",
      "Epoch 45/50\n",
      "125/125 [==============================] - 21s 168ms/step - loss: 0.1305 - accuracy: 0.9596 - val_loss: 0.5251 - val_accuracy: 0.8746\n"
     ]
    },
    {
     "name": "stdout",
     "output_type": "stream",
     "text": [
      "Epoch 46/50\n",
      "125/125 [==============================] - 21s 168ms/step - loss: 0.1275 - accuracy: 0.9605 - val_loss: 0.5329 - val_accuracy: 0.8748\n",
      "Epoch 47/50\n",
      "125/125 [==============================] - 22s 173ms/step - loss: 0.1245 - accuracy: 0.9613 - val_loss: 0.5368 - val_accuracy: 0.8742\n",
      "Epoch 48/50\n",
      "125/125 [==============================] - 21s 168ms/step - loss: 0.1214 - accuracy: 0.9623 - val_loss: 0.5400 - val_accuracy: 0.8750\n",
      "Epoch 49/50\n",
      "125/125 [==============================] - 21s 169ms/step - loss: 0.1188 - accuracy: 0.9628 - val_loss: 0.5474 - val_accuracy: 0.8742\n",
      "Epoch 50/50\n",
      "125/125 [==============================] - 21s 170ms/step - loss: 0.1155 - accuracy: 0.9641 - val_loss: 0.5494 - val_accuracy: 0.8744\n"
     ]
    },
    {
     "data": {
      "text/plain": [
       "<tensorflow.python.keras.callbacks.History at 0x2267f8a9af0>"
      ]
     },
     "execution_count": 10,
     "metadata": {},
     "output_type": "execute_result"
    }
   ],
   "source": [
    "model = Model([encoder_inputs, decoder_inputs], decoder_outputs)\n",
    "\n",
    "model.compile(optimizer='rmsprop', loss='categorical_crossentropy', metrics=['accuracy'])\n",
    "\n",
    "model.summary()\n",
    "\n",
    "model.fit([encoder_input_data, decoder_input_data], decoder_target_data,\n",
    "          batch_size=batch_size,\n",
    "          epochs=epochs,\n",
    "          validation_split=0.2)"
   ]
  },
  {
   "attachments": {
    "image-2.png": {
     "image/png": "[encoded data removed]"
    }
   },
   "cell_type": "markdown",
   "id": "76aecabd",
   "metadata": {},
   "source": [
    "Making Predictions - The Inference Model\n",
    "\n",
    "The training model is not built to recursively return one character at a time,but the Inference Model must do. \n",
    "\n",
    "    ~ Encode the input sequence, return its internal states.\n",
    "    ~ Run the decoder using just the start-of-sequence character as input and the encoder internal states as the decoder's initial states.\n",
    "    ~ Append the character predicted (after lookup of the token) by the decoder to the decoded sequence\n",
    "    ~ Repeat the process with the previously predicted character token as input and updates internal states.\n",
    "![image-2.png](attachment:image-2.png)"
   ]
  },
  {
   "cell_type": "code",
   "execution_count": 11,
   "id": "014243fc",
   "metadata": {},
   "outputs": [],
   "source": [
    "encoder_model = Model(encoder_inputs, encoder_states)\n",
    "\n",
    "decoder_state_input_h = Input(shape=(latent_dim,))\n",
    "decoder_state_input_c = Input(shape=(latent_dim,))\n",
    "decoder_states_inputs = [decoder_state_input_h, decoder_state_input_c]\n",
    "\n",
    "decoder_outputs, state_h, state_c = decoder_lstm(decoder_inputs, initial_state=decoder_states_inputs)\n",
    "decoder_states = [state_h, state_c]\n",
    "decoder_outputs = decoder_dense(decoder_outputs)\n",
    "\n",
    "decoder_model = Model([decoder_inputs] + decoder_states_inputs, [decoder_outputs] + decoder_states)\n",
    "\n",
    "\n",
    "# Reverse-Lookup tokenindex to decode sequences back to something readable\n",
    "reverse_input_char_index = dict(\n",
    "    (i, char) for char, i in input_token_index.items())\n",
    "reverse_target_char_index = dict(\n",
    "    (i, char) for char, i in target_token_index.items())"
   ]
  },
  {
   "cell_type": "markdown",
   "id": "c0522530",
   "metadata": {},
   "source": [
    "Defining a function which decodes a text in English to an output French text"
   ]
  },
  {
   "cell_type": "code",
   "execution_count": 12,
   "id": "7d53f03f",
   "metadata": {},
   "outputs": [],
   "source": [
    "def decode_sequence(input_seq):\n",
    "    # Encode the input as state vectors.\n",
    "    states_value = encoder_model.predict(input_seq)\n",
    "\n",
    "    # Generate empty target sequence of length 1.\n",
    "    target_seq = np.zeros((1, 1, num_decoder_tokens))\n",
    "    # Populate the first character of target sequence with the start character.\n",
    "    target_seq[0, 0, target_token_index['\\t']] = 1.\n",
    "\n",
    "    # Sampling loop for a batch of sequences\n",
    "    # (to simplify, here we assume a batch of size 1).\n",
    "    stop_condition = False\n",
    "    decoded_sentence = ''\n",
    "    while not stop_condition:\n",
    "        output_tokens, h, c = decoder_model.predict(\n",
    "            [target_seq] + states_value)\n",
    "\n",
    "        # Sample a token\n",
    "        sampled_token_index = np.argmax(output_tokens[0, -1, :])\n",
    "        sampled_char = reverse_target_char_index[sampled_token_index]\n",
    "        decoded_sentence += sampled_char\n",
    "\n",
    "        # Exit condition: either hit max length\n",
    "        # or find stop character.\n",
    "        if (sampled_char == '\\n' or\n",
    "           len(decoded_sentence) > max_decoder_seq_length):\n",
    "            stop_condition = True\n",
    "\n",
    "        # Update the target sequence (of length 1).\n",
    "        target_seq = np.zeros((1, 1, num_decoder_tokens))\n",
    "        target_seq[0, 0, sampled_token_index] = 1.\n",
    "\n",
    "        # Update states\n",
    "        states_value = [h, c]\n",
    "\n",
    "    return decoded_sentence"
   ]
  },
  {
   "cell_type": "markdown",
   "id": "1ed63bc7",
   "metadata": {},
   "source": [
    "Testing a sentence"
   ]
  },
  {
   "cell_type": "code",
   "execution_count": 13,
   "id": "a109b6d1",
   "metadata": {},
   "outputs": [
    {
     "name": "stdout",
     "output_type": "stream",
     "text": [
      "How are you?\n",
      "Comment vas-tu ?\n",
      "\n"
     ]
    }
   ],
   "source": [
    "input_sentence = \"How are you?\"\n",
    "test_sentence_tokenized = np.zeros((1, max_encoder_seq_length, num_encoder_tokens), dtype='float32')\n",
    "\n",
    "for t, char in enumerate(input_sentence):\n",
    "    test_sentence_tokenized[0, t, input_token_index[char]] = 1.\n",
    "    \n",
    "print(input_sentence)\n",
    "print(decode_sequence(test_sentence_tokenized))"
   ]
  },
  {
   "cell_type": "markdown",
   "id": "fd34ec29",
   "metadata": {},
   "source": [
    "Printing some input and decoded sentences"
   ]
  },
  {
   "cell_type": "code",
   "execution_count": 14,
   "id": "0e6d3633",
   "metadata": {},
   "outputs": [
    {
     "name": "stdout",
     "output_type": "stream",
     "text": [
      "-\n",
      "Input sentence: Go.\n",
      "Decoded sentence: Détage !\n",
      "\n",
      "Ground Truth sentence: \tVa !\n",
      "\n",
      "-\n",
      "Input sentence: Go.\n",
      "Decoded sentence: Détage !\n",
      "\n",
      "Ground Truth sentence: \tMarche.\n",
      "\n",
      "-\n",
      "Input sentence: Go.\n",
      "Decoded sentence: Détage !\n",
      "\n",
      "Ground Truth sentence: \tBouge !\n",
      "\n",
      "-\n",
      "Input sentence: Hi.\n",
      "Decoded sentence: Salut !\n",
      "\n",
      "Ground Truth sentence: \tSalut !\n",
      "\n",
      "-\n",
      "Input sentence: Hi.\n",
      "Decoded sentence: Salut !\n",
      "\n",
      "Ground Truth sentence: \tSalut.\n",
      "\n",
      "-\n",
      "Input sentence: Run!\n",
      "Decoded sentence: Filez !\n",
      "\n",
      "Ground Truth sentence: \tCours !\n",
      "\n",
      "-\n",
      "Input sentence: Run!\n",
      "Decoded sentence: Filez !\n",
      "\n",
      "Ground Truth sentence: \tCourez !\n",
      "\n",
      "-\n",
      "Input sentence: Run!\n",
      "Decoded sentence: Filez !\n",
      "\n",
      "Ground Truth sentence: \tPrenez vos jambes à vos cous !\n",
      "\n",
      "-\n",
      "Input sentence: Run!\n",
      "Decoded sentence: Filez !\n",
      "\n",
      "Ground Truth sentence: \tFile !\n",
      "\n",
      "-\n",
      "Input sentence: Run!\n",
      "Decoded sentence: Filez !\n",
      "\n",
      "Ground Truth sentence: \tFilez !\n",
      "\n",
      "-\n",
      "Input sentence: Run!\n",
      "Decoded sentence: Filez !\n",
      "\n",
      "Ground Truth sentence: \tCours !\n",
      "\n",
      "-\n",
      "Input sentence: Run!\n",
      "Decoded sentence: Filez !\n",
      "\n",
      "Ground Truth sentence: \tFuyez !\n",
      "\n",
      "-\n",
      "Input sentence: Run!\n",
      "Decoded sentence: Filez !\n",
      "\n",
      "Ground Truth sentence: \tFuyons !\n",
      "\n",
      "-\n",
      "Input sentence: Run.\n",
      "Decoded sentence: Cours !\n",
      "\n",
      "Ground Truth sentence: \tCours !\n",
      "\n",
      "-\n",
      "Input sentence: Run.\n",
      "Decoded sentence: Cours !\n",
      "\n",
      "Ground Truth sentence: \tCourez !\n",
      "\n",
      "-\n",
      "Input sentence: Run.\n",
      "Decoded sentence: Cours !\n",
      "\n",
      "Ground Truth sentence: \tPrenez vos jambes à vos cous !\n",
      "\n",
      "-\n",
      "Input sentence: Run.\n",
      "Decoded sentence: Cours !\n",
      "\n",
      "Ground Truth sentence: \tFile !\n",
      "\n",
      "-\n",
      "Input sentence: Run.\n",
      "Decoded sentence: Cours !\n",
      "\n",
      "Ground Truth sentence: \tFilez !\n",
      "\n",
      "-\n",
      "Input sentence: Run.\n",
      "Decoded sentence: Cours !\n",
      "\n",
      "Ground Truth sentence: \tCours !\n",
      "\n",
      "-\n",
      "Input sentence: Run.\n",
      "Decoded sentence: Cours !\n",
      "\n",
      "Ground Truth sentence: \tFuyez !\n",
      "\n",
      "-\n",
      "Input sentence: Run.\n",
      "Decoded sentence: Cours !\n",
      "\n",
      "Ground Truth sentence: \tFuyons !\n",
      "\n",
      "-\n",
      "Input sentence: Who?\n",
      "Decoded sentence: Qui ?\n",
      "\n",
      "Ground Truth sentence: \tQui ?\n",
      "\n",
      "-\n",
      "Input sentence: Wow!\n",
      "Decoded sentence: Pranos !\n",
      "\n",
      "Ground Truth sentence: \tÇa alors !\n",
      "\n",
      "-\n",
      "Input sentence: Fire!\n",
      "Decoded sentence: Au feu !\n",
      "\n",
      "Ground Truth sentence: \tAu feu !\n",
      "\n",
      "-\n",
      "Input sentence: Help!\n",
      "Decoded sentence: Achetez-moi !\n",
      "\n",
      "Ground Truth sentence: \tÀ l'aide !\n",
      "\n",
      "-\n",
      "Input sentence: Hide.\n",
      "Decoded sentence: Marche-le.\n",
      "\n",
      "Ground Truth sentence: \tCache-toi.\n",
      "\n",
      "-\n",
      "Input sentence: Hide.\n",
      "Decoded sentence: Marche-le.\n",
      "\n",
      "Ground Truth sentence: \tCachez-vous.\n",
      "\n",
      "-\n",
      "Input sentence: Jump!\n",
      "Decoded sentence: Saute.\n",
      "\n",
      "Ground Truth sentence: \tSaute.\n",
      "\n",
      "-\n",
      "Input sentence: Jump.\n",
      "Decoded sentence: Saute.\n",
      "\n",
      "Ground Truth sentence: \tSaute.\n",
      "\n",
      "-\n",
      "Input sentence: Stop!\n",
      "Decoded sentence: Stoppez votre trappes !\n",
      "\n",
      "Ground Truth sentence: \tÇa suffit !\n",
      "\n"
     ]
    }
   ],
   "source": [
    "for seq_index in range(30):\n",
    "    # Take one sentence (part of the training set) for trying out decoding\n",
    "    input_seq = encoder_input_data[seq_index: seq_index + 1]\n",
    "    decoded_sentence = decode_sequence(input_seq)\n",
    "    print('-')\n",
    "    print('Input sentence:', input_texts[seq_index])\n",
    "    print('Decoded sentence:', decoded_sentence)\n",
    "    print('Ground Truth sentence:', target_texts[seq_index])"
   ]
  },
  {
   "cell_type": "code",
   "execution_count": null,
   "id": "00545150",
   "metadata": {},
   "outputs": [],
   "source": []
  }
 ],
 "metadata": {
  "kernelspec": {
   "display_name": "Python 3",
   "language": "python",
   "name": "python3"
  },
  "language_info": {
   "codemirror_mode": {
    "name": "ipython",
    "version": 3
   },
   "file_extension": ".py",
   "mimetype": "text/x-python",
   "name": "python",
   "nbconvert_exporter": "python",
   "pygments_lexer": "ipython3",
   "version": "3.8.8"
  }
 },
 "nbformat": 4,
 "nbformat_minor": 5
}
